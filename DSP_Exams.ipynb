{
  "nbformat": 4,
  "nbformat_minor": 0,
  "metadata": {
    "colab": {
      "provenance": []
    },
    "kernelspec": {
      "name": "python3",
      "display_name": "Python 3"
    },
    "language_info": {
      "name": "python"
    }
  },
  "cells": [
    {
      "cell_type": "markdown",
      "source": [
        "**Spatio-temporal propagation and reconstruction for low-light video enhancement**"
      ],
      "metadata": {
        "id": "8zDG6d5P4hgb"
      }
    },
    {
      "cell_type": "code",
      "execution_count": null,
      "metadata": {
        "id": "SC04wfOK_5Tp"
      },
      "outputs": [],
      "source": [
        "#Importing the necessary libraries\n",
        "\n",
        "import cv2\n",
        "import numpy as np\n",
        "import torch\n",
        "import torch.nn as nn\n",
        "import torch.nn.functional as F\n",
        "import torch.optim as optim\n",
        "import torchvision.models as models"
      ]
    },
    {
      "cell_type": "code",
      "source": [
        "#Input module\n",
        "\n",
        "def load_video_frames(video_path):\n",
        "    cap = cv2.VideoCapture(video_path)\n",
        "    frames = []\n",
        "    while cap.isOpened():\n",
        "        ret, frame = cap.read()\n",
        "        if not ret:\n",
        "            break\n",
        "        frames.append(frame)\n",
        "    cap.release()\n",
        "    return frames"
      ],
      "metadata": {
        "id": "PqUv1Yot_7q4"
      },
      "execution_count": null,
      "outputs": []
    },
    {
      "cell_type": "markdown",
      "source": [
        "The Lucas-Kanade method was used in computing the optical flow"
      ],
      "metadata": {
        "id": "9mR_s7gx5DG_"
      }
    },
    {
      "cell_type": "code",
      "source": [
        "#Flow estimation module\n",
        "\n",
        "def flow_estimation(prev_frame, curr_frame):\n",
        "\n",
        "    # Convert frames to grayscale\n",
        "    prev_gray = cv2.cvtColor(prev_frame, cv2.COLOR_BGR2GRAY)\n",
        "    curr_gray = cv2.cvtColor(curr_frame, cv2.COLOR_BGR2GRAY)\n",
        "\n",
        "    # Parameters for Lucas-Kanade optical flow\n",
        "    lk_params = dict(winSize=(15, 15),\n",
        "                     maxLevel=2,\n",
        "                     criteria=(cv2.TERM_CRITERIA_EPS | cv2.TERM_CRITERIA_COUNT, 10, 0.03))\n",
        "\n",
        "    # Calculate optical flow using Lucas-Kanade method\n",
        "    flow = cv2.calcOpticalFlowPyrLK(prev_gray, curr_gray, None, None, **lk_params)\n",
        "\n",
        "    # Select good points\n",
        "    good_prev = flow[0].reshape(-1, 2)\n",
        "    good_curr = flow[1].reshape(-1, 2)\n",
        "\n",
        "    return good_prev, good_curr"
      ],
      "metadata": {
        "id": "zjspokk3AX8b"
      },
      "execution_count": null,
      "outputs": []
    },
    {
      "cell_type": "code",
      "source": [
        "# Optical flow propagation and reconstruction\n",
        "\n",
        "def flow_propagation_reconstruction(prev_frame, curr_frame, good_prev, good_curr):\n",
        "    # Parameters for propagation and reconstruction\n",
        "    alpha = 0.3\n",
        "    beta = 0.9\n",
        "\n",
        "    # Calculate backward flow\n",
        "    backward_flow = cv2.calcOpticalFlowPyrLK(curr_frame, prev_frame, None, None, **lk_params)[0].reshape(-1, 2)\n",
        "\n",
        "    # Forward flow propagation\n",
        "    propagated_flow = good_curr + backward_flow - good_prev\n",
        "\n",
        "    # Temporal consistency\n",
        "    reconstructed_flow = alpha * propagated_flow + (1 - alpha) * backward_flow\n",
        "\n",
        "    # Spatial propagation\n",
        "    warped_curr_frame = cv2.remap(curr_frame, reconstructed_flow, None, cv2.INTER_LINEAR)\n",
        "    propagated_frame = beta * warped_curr_frame + (1 - beta) * curr_frame\n",
        "\n",
        "    return propagated_frame\n"
      ],
      "metadata": {
        "id": "nc3upOIrCJ00"
      },
      "execution_count": null,
      "outputs": []
    },
    {
      "cell_type": "code",
      "source": [
        "# Pyramid Recursive Residual Dense Subnet\n",
        "\n",
        "class PRDSubnet(nn.Module):\n",
        "    def __init__(self):\n",
        "        super(PRDSubnet, self).__init__()\n",
        "        # Define your architecture here\n",
        "        # For example, you can use a series of Conv2d, BatchNorm2d, and ReLU layers\n",
        "        self.conv1 = nn.Conv2d(in_channels, out_channels, kernel_size, stride, padding)\n",
        "        self.bn1 = nn.BatchNorm2d(out_channels)\n",
        "        self.relu = nn.ReLU(inplace=True)\n",
        "\n",
        "        # Add more layers as needed...\n",
        "\n",
        "    def forward(self, x):\n",
        "        # Implement forward pass of the subnet\n",
        "        x = self.conv1(x)\n",
        "        x = self.bn1(x)\n",
        "        x = self.relu(x)\n",
        "\n",
        "        # Continue with other layers and sub-modules...\n",
        "\n",
        "        return x"
      ],
      "metadata": {
        "id": "ntCVqqCnF4uA"
      },
      "execution_count": null,
      "outputs": []
    },
    {
      "cell_type": "code",
      "source": [
        "# Spatio-temporal Feature Reconstruction Subnet\n",
        "\n",
        "class STRSubnet(nn.Module):\n",
        "    def __init__(self):\n",
        "        super(STRSubnet, self).__init__()\n",
        "        # Define your architecture here\n",
        "        # For example, you can use a combination of Conv3d, BatchNorm3d, and ReLU layers\n",
        "        self.conv3d_1 = nn.Conv3d(in_channels, out_channels, kernel_size, stride, padding)\n",
        "        self.bn3d_1 = nn.BatchNorm3d(out_channels)\n",
        "        self.relu = nn.ReLU(inplace=True)\n",
        "\n",
        "        # Add more layers as needed...\n",
        "\n",
        "    def forward(self, x):\n",
        "        # Implement forward pass of the subnet\n",
        "        x = self.conv3d_1(x)\n",
        "        x = self.bn3d_1(x)\n",
        "        x = self.relu(x)\n",
        "\n",
        "        # Continue with other layers and sub-modules...\n",
        "\n",
        "        return x"
      ],
      "metadata": {
        "id": "iyzSciYIGF5E"
      },
      "execution_count": null,
      "outputs": []
    }
  ]
}